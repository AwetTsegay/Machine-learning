{
 "cells": [
  {
   "cell_type": "markdown",
   "metadata": {},
   "source": [
    "# Lab 4\n",
    "\n",
    "## General principles of machine learning and the validity of a primitive conformal predictor"
   ]
  },
  {
   "cell_type": "markdown",
   "metadata": {},
   "source": [
    "### 1. Nearest Neighbours Regression and an inverted U-shape"
   ]
  },
  {
   "cell_type": "code",
   "execution_count": 1,
   "metadata": {},
   "outputs": [
    {
     "data": {
      "text/plain": [
       "(506, 13)"
      ]
     },
     "execution_count": 1,
     "metadata": {},
     "output_type": "execute_result"
    }
   ],
   "source": [
    "from sklearn.datasets import load_boston\n",
    "boston = load_boston()\n",
    "boston.data.shape"
   ]
  },
  {
   "cell_type": "code",
   "execution_count": 2,
   "metadata": {},
   "outputs": [
    {
     "name": "stdout",
     "output_type": "stream",
     "text": [
      ".. _boston_dataset:\n",
      "\n",
      "Boston house prices dataset\n",
      "---------------------------\n",
      "\n",
      "**Data Set Characteristics:**  \n",
      "\n",
      "    :Number of Instances: 506 \n",
      "\n",
      "    :Number of Attributes: 13 numeric/categorical predictive. Median Value (attribute 14) is usually the target.\n",
      "\n",
      "    :Attribute Information (in order):\n",
      "        - CRIM     per capita crime rate by town\n",
      "        - ZN       proportion of residential land zoned for lots over 25,000 sq.ft.\n",
      "        - INDUS    proportion of non-retail business acres per town\n",
      "        - CHAS     Charles River dummy variable (= 1 if tract bounds river; 0 otherwise)\n",
      "        - NOX      nitric oxides concentration (parts per 10 million)\n",
      "        - RM       average number of rooms per dwelling\n",
      "        - AGE      proportion of owner-occupied units built prior to 1940\n",
      "        - DIS      weighted distances to five Boston employment centres\n",
      "        - RAD      index of accessibility to radial highways\n",
      "        - TAX      full-value property-tax rate per $10,000\n",
      "        - PTRATIO  pupil-teacher ratio by town\n",
      "        - B        1000(Bk - 0.63)^2 where Bk is the proportion of blacks by town\n",
      "        - LSTAT    % lower status of the population\n",
      "        - MEDV     Median value of owner-occupied homes in $1000's\n",
      "\n",
      "    :Missing Attribute Values: None\n",
      "\n",
      "    :Creator: Harrison, D. and Rubinfeld, D.L.\n",
      "\n",
      "This is a copy of UCI ML housing dataset.\n",
      "https://archive.ics.uci.edu/ml/machine-learning-databases/housing/\n",
      "\n",
      "\n",
      "This dataset was taken from the StatLib library which is maintained at Carnegie Mellon University.\n",
      "\n",
      "The Boston house-price data of Harrison, D. and Rubinfeld, D.L. 'Hedonic\n",
      "prices and the demand for clean air', J. Environ. Economics & Management,\n",
      "vol.5, 81-102, 1978.   Used in Belsley, Kuh & Welsch, 'Regression diagnostics\n",
      "...', Wiley, 1980.   N.B. Various transformations are used in the table on\n",
      "pages 244-261 of the latter.\n",
      "\n",
      "The Boston house-price data has been used in many machine learning papers that address regression\n",
      "problems.   \n",
      "     \n",
      ".. topic:: References\n",
      "\n",
      "   - Belsley, Kuh & Welsch, 'Regression diagnostics: Identifying Influential Data and Sources of Collinearity', Wiley, 1980. 244-261.\n",
      "   - Quinlan,R. (1993). Combining Instance-Based and Model-Based Learning. In Proceedings on the Tenth International Conference of Machine Learning, 236-243, University of Massachusetts, Amherst. Morgan Kaufmann.\n",
      "\n"
     ]
    }
   ],
   "source": [
    " print(boston.DESCR)"
   ]
  },
  {
   "cell_type": "code",
   "execution_count": 3,
   "metadata": {},
   "outputs": [
    {
     "data": {
      "text/plain": [
       "[<matplotlib.lines.Line2D at 0x2c4a2122310>]"
      ]
     },
     "execution_count": 3,
     "metadata": {},
     "output_type": "execute_result"
    },
    {
     "data": {
      "image/png": "[encoded data removed]",
      "text/plain": [
       "<Figure size 432x288 with 1 Axes>"
      ]
     },
     "metadata": {
      "needs_background": "light"
     },
     "output_type": "display_data"
    }
   ],
   "source": [
    "from sklearn.model_selection import train_test_split\n",
    "X_train, X_test, y_train, y_test = train_test_split(boston['data'],\n",
    "  boston['target'], random_state=0)\n",
    "from sklearn.neighbors import KNeighborsRegressor\n",
    "K_max = 50  # maximal number of nearest neighbours to consider\n",
    "import numpy as np\n",
    "results = np.empty(K_max)\n",
    "for k in range(K_max):\n",
    "    knn = KNeighborsRegressor(n_neighbors=k+1)\n",
    "    knn.fit(X_train, y_train)\n",
    "    results[k] = knn.score(X_test, y_test)\n",
    "%matplotlib inline\n",
    "import matplotlib.pyplot as plt\n",
    "plt.plot(np.arange(K_max)+1,results)"
   ]
  },
  {
   "cell_type": "code",
   "execution_count": 4,
   "metadata": {},
   "outputs": [
    {
     "name": "stdout",
     "output_type": "stream",
     "text": [
      "Help on function score in module sklearn.base:\n",
      "\n",
      "score(self, X, y, sample_weight=None)\n",
      "    Return the coefficient of determination R^2 of the prediction.\n",
      "    \n",
      "    The coefficient R^2 is defined as (1 - u/v), where u is the residual\n",
      "    sum of squares ((y_true - y_pred) ** 2).sum() and v is the total\n",
      "    sum of squares ((y_true - y_true.mean()) ** 2).sum().\n",
      "    The best possible score is 1.0 and it can be negative (because the\n",
      "    model can be arbitrarily worse). A constant model that always\n",
      "    predicts the expected value of y, disregarding the input features,\n",
      "    would get a R^2 score of 0.0.\n",
      "    \n",
      "    Parameters\n",
      "    ----------\n",
      "    X : array-like of shape (n_samples, n_features)\n",
      "        Test samples. For some estimators this may be a\n",
      "        precomputed kernel matrix or a list of generic objects instead,\n",
      "        shape = (n_samples, n_samples_fitted),\n",
      "        where n_samples_fitted is the number of\n",
      "        samples used in the fitting for the estimator.\n",
      "    \n",
      "    y : array-like of shape (n_samples,) or (n_samples, n_outputs)\n",
      "        True values for X.\n",
      "    \n",
      "    sample_weight : array-like of shape (n_samples,), default=None\n",
      "        Sample weights.\n",
      "    \n",
      "    Returns\n",
      "    -------\n",
      "    score : float\n",
      "        R^2 of self.predict(X) wrt. y.\n",
      "    \n",
      "    Notes\n",
      "    -----\n",
      "    The R2 score used when calling ``score`` on a regressor uses\n",
      "    ``multioutput='uniform_average'`` from version 0.23 to keep consistent\n",
      "    with default value of :func:`~sklearn.metrics.r2_score`.\n",
      "    This influences the ``score`` method of all the multioutput\n",
      "    regressors (except for\n",
      "    :class:`~sklearn.multioutput.MultiOutputRegressor`).\n",
      "\n"
     ]
    }
   ],
   "source": [
    "help(KNeighborsRegressor.score)"
   ]
  },
  {
   "cell_type": "markdown",
   "metadata": {},
   "source": [
    "### 2. Using cross-validation to get an inverted U-shaped curve"
   ]
  },
  {
   "cell_type": "code",
   "execution_count": 5,
   "metadata": {},
   "outputs": [
    {
     "data": {
      "text/plain": [
       "array([0.41743153, 0.17741167, 0.01938625, 0.427455  , 0.25685911])"
      ]
     },
     "execution_count": 5,
     "metadata": {},
     "output_type": "execute_result"
    }
   ],
   "source": [
    "from sklearn.model_selection import cross_val_score\n",
    "knn = KNeighborsRegressor(n_neighbors=1)\n",
    "cross_val_score(knn, X_train, y_train)"
   ]
  },
  {
   "cell_type": "code",
   "execution_count": 6,
   "metadata": {},
   "outputs": [
    {
     "name": "stdout",
     "output_type": "stream",
     "text": [
      "[0.27367598 0.27668466 0.48155521 0.45730902 0.67114389]\n"
     ]
    }
   ],
   "source": [
    "from sklearn.utils import shuffle\n",
    "# print(cross_val_score(knn, boston.data, boston.target))\n",
    "X, y = shuffle(boston.data, boston.target, random_state=0)\n",
    "print(cross_val_score(knn, X, y))"
   ]
  },
  {
   "cell_type": "code",
   "execution_count": 7,
   "metadata": {},
   "outputs": [
    {
     "data": {
      "text/plain": [
       "0.2540875231617269"
      ]
     },
     "execution_count": 7,
     "metadata": {},
     "output_type": "execute_result"
    }
   ],
   "source": [
    "knn.fit(X_train, y_train)\n",
    "knn.score(X_test, y_test)"
   ]
  },
  {
   "cell_type": "code",
   "execution_count": 8,
   "metadata": {},
   "outputs": [
    {
     "data": {
      "text/plain": [
       "[<matplotlib.lines.Line2D at 0x2c4a21dad60>]"
      ]
     },
     "execution_count": 8,
     "metadata": {},
     "output_type": "execute_result"
    },
    {
     "data": {
      "image/png": "[encoded data removed]",
      "text/plain": [
       "<Figure size 432x288 with 1 Axes>"
      ]
     },
     "metadata": {
      "needs_background": "light"
     },
     "output_type": "display_data"
    }
   ],
   "source": [
    "K_max = 50  # maximal number of nearest neighbours to consider\n",
    "results = np.empty(K_max)\n",
    "for k in range(K_max):\n",
    "    knn = KNeighborsRegressor(n_neighbors=k+1)\n",
    "    results[k] = np.mean(cross_val_score(knn, X, y))\n",
    "plt.plot(np.arange(K_max)+1,results)"
   ]
  },
  {
   "cell_type": "markdown",
   "metadata": {},
   "source": [
    "#### Exercise 1: \n",
    "\n",
    "Explain the role of np.mean in the previous code cell."
   ]
  },
  {
   "cell_type": "markdown",
   "metadata": {},
   "source": [
    "Answer:  cross_val_score outputs an array, and to get the overall accuracy we need to average it."
   ]
  },
  {
   "cell_type": "markdown",
   "metadata": {},
   "source": [
    "#### Exercise 2:  \n",
    "\n",
    "Try different values of K_max."
   ]
  },
  {
   "cell_type": "code",
   "execution_count": 9,
   "metadata": {},
   "outputs": [
    {
     "data": {
      "text/plain": [
       "[<matplotlib.lines.Line2D at 0x2c4a228f580>]"
      ]
     },
     "execution_count": 9,
     "metadata": {},
     "output_type": "execute_result"
    },
    {
     "data": {
      "image/png": "[encoded data removed]",
      "text/plain": [
       "<Figure size 432x288 with 1 Axes>"
      ]
     },
     "metadata": {
      "needs_background": "light"
     },
     "output_type": "display_data"
    }
   ],
   "source": [
    "K_max = 10  # maximal number of nearest neighbours to consider\n",
    "results = np.empty(K_max)\n",
    "for k in range(K_max):\n",
    "    knn = KNeighborsRegressor(n_neighbors=k+1)\n",
    "    results[k] = np.mean(cross_val_score(knn, X, y))\n",
    "plt.plot(np.arange(K_max)+1,results)"
   ]
  },
  {
   "cell_type": "markdown",
   "metadata": {},
   "source": [
    "We can see that the optimal value of K is 5 for cross validation.  If you modify the code not using cross validation by replacing 50 with 10, you will see that the optimal K is 3.  If you replace K by 150 or 200, you will see that the curve that you obtain for cross-validation is more regular."
   ]
  },
  {
   "cell_type": "markdown",
   "metadata": {},
   "source": [
    "### 3. Learning curves"
   ]
  },
  {
   "cell_type": "code",
   "execution_count": 10,
   "metadata": {},
   "outputs": [
    {
     "data": {
      "text/plain": [
       "[<matplotlib.lines.Line2D at 0x2c4a22cfe80>]"
      ]
     },
     "execution_count": 10,
     "metadata": {},
     "output_type": "execute_result"
    },
    {
     "data": {
      "image/png": "[encoded data removed]",
      "text/plain": [
       "<Figure size 432x288 with 1 Axes>"
      ]
     },
     "metadata": {
      "needs_background": "light"
     },
     "output_type": "display_data"
    }
   ],
   "source": [
    "knn = KNeighborsRegressor(n_neighbors=3)\n",
    "train_sizes = np.array([50,100,200,300]) # sizes of training sets\n",
    "                                         # that we will try\n",
    "results = np.empty(train_sizes.size)\n",
    "for k in range(train_sizes.size):\n",
    "    X_train, X_test, y_train, y_test = train_test_split(boston.data,\n",
    "    boston.target, train_size=train_sizes[k], random_state=0)\n",
    "    knn.fit(X_train, y_train)\n",
    "    results[k] = knn.score(X_test, y_test)\n",
    "plt.plot(train_sizes,results)"
   ]
  },
  {
   "cell_type": "markdown",
   "metadata": {},
   "source": [
    "#### Exercise 3: \n",
    "\n",
    "Try other arrays of train_sizes. Write one sentence summarizing what you see."
   ]
  },
  {
   "cell_type": "markdown",
   "metadata": {},
   "source": [
    "##### Answer: \n",
    "\n",
    "Any serious answer is accepted (even \"I do not see anything unusual\"). For me, it was striking to see how unstable the learning curve was; for example, for a denser grid of training sizes it was not monotonic."
   ]
  },
  {
   "cell_type": "markdown",
   "metadata": {},
   "source": [
    "#### Exercise 4: \n",
    "\n",
    "- What is the size of the test set that you obtain when using train_test_split if you only specify the parameter train_size and do not specify test_size?  \n",
    "- What happens if you only specify test_size and do not specify train_size?  \n",
    "- Can you specify both?   \n",
    "- To make sure your answers are correct you should use the scikit-learn documentation."
   ]
  },
  {
   "cell_type": "markdown",
   "metadata": {},
   "source": [
    "This is from the documentation:\n",
    "\n",
    "- test_size : float or int, default=None\n",
    "  - If float, should be between 0.0 and 1.0 and represent the proportion of the dataset to include in the test split. If int, represents the absolute number of test samples. If None, the value is set to the complement of the train size. If train_size is also None, it will be set to 0.25.\n",
    "-  train_size : float or int, default=None\n",
    "  - If float, should be between 0.0 and 1.0 and represent the proportion of the dataset to include in the train split. If int, represents the absolute number of train samples. If None, the value is automatically set to the complement of the test size.\n",
    "\n",
    "Yes, you can specify both (but make sure that the sum of train_size and test_size does not exceed the size of the dataset)."
   ]
  },
  {
   "cell_type": "markdown",
   "metadata": {},
   "source": [
    "### 4. Value at Risk (optional)"
   ]
  },
  {
   "cell_type": "code",
   "execution_count": 11,
   "metadata": {},
   "outputs": [
    {
     "name": "stdout",
     "output_type": "stream",
     "text": [
      "[ -28563.26857681  353870.23571003  -66438.38400571  306022.63559901\n",
      "  183102.9897611  -412612.57702235  251885.4582394  -408493.59774491\n",
      " -262663.42985845  363593.08352589 -432183.37759487  329650.6890414\n",
      "  -72003.70214032  381127.28878384 -208041.6150758   423369.27177524\n",
      "  157534.29387042  293352.97775895   89151.83159465   67615.11307025\n",
      "  294428.95352862 -453532.33834302  148520.81941148  227933.55372414\n",
      "  317686.53074152   54968.95102523 -225032.5798578    30854.25563777\n",
      " -442240.16900778  -32978.21736103  489405.13725342  390702.79082411\n",
      "  411427.67303632  125981.2660627   -96444.19590922 -295143.74919401\n",
      "  -30539.83345737  108634.24915226  365552.18848383  472866.23228319\n",
      "  226532.37209855 -344990.41238157 -460783.33508881  322492.00464393\n",
      "  -80037.60335312  286108.3127153   409708.69653193  -23156.5779446\n",
      " -392614.8301171  -259846.24331231 -453452.76756577 -274938.32806773\n",
      "   -6881.56663143  185131.15502415  302118.87701184 -410136.80886733\n",
      " -178435.75166897 -170821.81288442  -54057.17143125  411138.91543933\n",
      "  182003.65273116  379435.55308241  205373.2002911  -367546.81023175\n",
      " -162505.87034672  241670.65034558  265867.04872199 -431800.74975467\n",
      " -205688.12458294  165427.56050237 -109244.72162251  334210.96485374\n",
      "  436325.08337127 -474558.55036435 -136967.11432773  217760.10911051\n",
      " -426166.73038619 -267188.88823673 -212150.8325802   -86065.69518246\n",
      " -243579.07322079  144483.44780045 -362969.39986564 -200862.55279278\n",
      "    2583.56757064 -392127.96093503  331063.40530047 -386993.89092484\n",
      "  101791.14200955  337625.89238374  393452.06411783   32574.7931994\n",
      " -363953.20416357  322570.2073814   292163.08287533 -136709.89646866\n",
      "   -6154.27712393   51518.88007627  282956.67465724]\n"
     ]
    }
   ],
   "source": [
    "n = 99    # we are in the morning of the 100th day\n",
    "L = 10**6 * np.random.random((n)) - 10**6/2\n",
    "print(L)"
   ]
  },
  {
   "cell_type": "markdown",
   "metadata": {},
   "source": [
    "Let's see what the sorted L looks like."
   ]
  },
  {
   "cell_type": "code",
   "execution_count": 12,
   "metadata": {},
   "outputs": [
    {
     "data": {
      "text/plain": [
       "array([-474558.55036435, -460783.33508881, -453532.33834302,\n",
       "       -453452.76756577, -442240.16900778, -432183.37759487,\n",
       "       -431800.74975467, -426166.73038619, -412612.57702235,\n",
       "       -410136.80886733, -408493.59774491, -392614.8301171 ,\n",
       "       -392127.96093503, -386993.89092484, -367546.81023175,\n",
       "       -363953.20416357, -362969.39986564, -344990.41238157,\n",
       "       -295143.74919401, -274938.32806773, -267188.88823673,\n",
       "       -262663.42985845, -259846.24331231, -243579.07322079,\n",
       "       -225032.5798578 , -212150.8325802 , -208041.6150758 ,\n",
       "       -205688.12458294, -200862.55279278, -178435.75166897,\n",
       "       -170821.81288442, -162505.87034672, -136967.11432773,\n",
       "       -136709.89646866, -109244.72162251,  -96444.19590922,\n",
       "        -86065.69518246,  -80037.60335312,  -72003.70214032,\n",
       "        -66438.38400571,  -54057.17143125,  -32978.21736103,\n",
       "        -30539.83345737,  -28563.26857681,  -23156.5779446 ,\n",
       "         -6881.56663143,   -6154.27712393,    2583.56757064,\n",
       "         30854.25563777,   32574.7931994 ,   51518.88007627,\n",
       "         54968.95102523,   67615.11307025,   89151.83159465,\n",
       "        101791.14200955,  108634.24915226,  125981.2660627 ,\n",
       "        144483.44780045,  148520.81941148,  157534.29387042,\n",
       "        165427.56050237,  182003.65273116,  183102.9897611 ,\n",
       "        185131.15502415,  205373.2002911 ,  217760.10911051,\n",
       "        226532.37209855,  227933.55372414,  241670.65034558,\n",
       "        251885.4582394 ,  265867.04872199,  282956.67465724,\n",
       "        286108.3127153 ,  292163.08287533,  293352.97775895,\n",
       "        294428.95352862,  302118.87701184,  306022.63559901,\n",
       "        317686.53074152,  322492.00464393,  322570.2073814 ,\n",
       "        329650.6890414 ,  331063.40530047,  334210.96485374,\n",
       "        337625.89238374,  353870.23571003,  363593.08352589,\n",
       "        365552.18848383,  379435.55308241,  381127.28878384,\n",
       "        390702.79082411,  393452.06411783,  409708.69653193,\n",
       "        411138.91543933,  411427.67303632,  423369.27177524,\n",
       "        436325.08337127,  472866.23228319,  489405.13725342])"
      ]
     },
     "execution_count": 12,
     "metadata": {},
     "output_type": "execute_result"
    }
   ],
   "source": [
    "np.sort(L)"
   ]
  },
  {
   "cell_type": "code",
   "execution_count": 13,
   "metadata": {},
   "outputs": [
    {
     "name": "stdout",
     "output_type": "stream",
     "text": [
      "322492.00464393\n"
     ]
    }
   ],
   "source": [
    "sorted_L = np.sort(L)\n",
    "VaR = sorted_L[-int(np.floor((n+1)/5))]\n",
    "print(VaR)"
   ]
  },
  {
   "cell_type": "code",
   "execution_count": 14,
   "metadata": {},
   "outputs": [
    {
     "data": {
      "text/plain": [
       "4.0"
      ]
     },
     "execution_count": 14,
     "metadata": {},
     "output_type": "execute_result"
    }
   ],
   "source": [
    "np.floor(4.5)"
   ]
  },
  {
   "cell_type": "code",
   "execution_count": 15,
   "metadata": {},
   "outputs": [],
   "source": [
    "import math\n",
    "def VaR(L):\n",
    "    \"\"\"Value at Risk (a primitive conformal predictor)\"\"\"\n",
    "    if L.size>=4:\n",
    "        return np.sort(L)[-int(np.floor((n+1)/5))]\n",
    "    else:\n",
    "        return math.inf"
   ]
  },
  {
   "cell_type": "markdown",
   "metadata": {},
   "source": [
    "### Validity of conformal prediction: an empirical test"
   ]
  },
  {
   "cell_type": "code",
   "execution_count": 16,
   "metadata": {},
   "outputs": [],
   "source": [
    "N = 500    # the number of days\n",
    "# The losses on those days:\n",
    "L = 10**6 * np.random.random_sample((N)) - 10**6/2"
   ]
  },
  {
   "cell_type": "code",
   "execution_count": 17,
   "metadata": {},
   "outputs": [
    {
     "name": "stdout",
     "output_type": "stream",
     "text": [
      "0.782\n"
     ]
    }
   ],
   "source": [
    "successes = np.empty(N)\n",
    "for n in range(N):\n",
    "    # This is what happens on the (n+1)st day:\n",
    "    V = VaR(L[:n])  # VaR for the (n+1)st day\n",
    "    if L[n]<=V:\n",
    "        successes[n] = 1  # our VaR worked\n",
    "    else:\n",
    "        successes[n] = 0  # it didn't\n",
    "print(np.mean(successes))"
   ]
  },
  {
   "cell_type": "code",
   "execution_count": 18,
   "metadata": {},
   "outputs": [
    {
     "data": {
      "text/plain": [
       "[<matplotlib.lines.Line2D at 0x2c4a23315b0>]"
      ]
     },
     "execution_count": 18,
     "metadata": {},
     "output_type": "execute_result"
    },
    {
     "data": {
      "image/png": "[encoded data removed]",
      "text/plain": [
       "<Figure size 432x288 with 1 Axes>"
      ]
     },
     "metadata": {
      "needs_background": "light"
     },
     "output_type": "display_data"
    }
   ],
   "source": [
    "plt.plot(np.arange(N)+1,np.cumsum(successes))"
   ]
  },
  {
   "cell_type": "markdown",
   "metadata": {},
   "source": [
    "#### Exercise:  \n",
    "- What is the function np.cumsum doing?"
   ]
  },
  {
   "cell_type": "markdown",
   "metadata": {},
   "source": [
    "#### Answer:  \n",
    "The nth element of cumsum(s) is the sum of the first n elements of s."
   ]
  },
  {
   "cell_type": "markdown",
   "metadata": {},
   "source": [
    "## 5. One more exercise"
   ]
  },
  {
   "cell_type": "markdown",
   "metadata": {},
   "source": [
    "#### Exercise 6. \n",
    "- Plot a learning curve for the iris dataset"
   ]
  },
  {
   "cell_type": "code",
   "execution_count": 19,
   "metadata": {},
   "outputs": [
    {
     "data": {
      "text/plain": [
       "[<matplotlib.lines.Line2D at 0x2c4a238aaf0>]"
      ]
     },
     "execution_count": 19,
     "metadata": {},
     "output_type": "execute_result"
    },
    {
     "data": {
      "image/png": "[encoded data removed]",
      "text/plain": [
       "<Figure size 432x288 with 1 Axes>"
      ]
     },
     "metadata": {
      "needs_background": "light"
     },
     "output_type": "display_data"
    }
   ],
   "source": [
    "from sklearn.neighbors import KNeighborsClassifier\n",
    "knn = KNeighborsClassifier(n_neighbors=1)\n",
    "from sklearn.datasets import load_iris\n",
    "iris = load_iris()\n",
    "train_sizes = np.array([25,50,75,100]) # sizes of training sets\n",
    "                                       # that we will try\n",
    "results = np.empty(train_sizes.size)\n",
    "for k in range(train_sizes.size):\n",
    "    X_train, X_test, y_train, y_test = train_test_split(iris.data,\n",
    "    iris.target, train_size=train_sizes[k], test_size=None, random_state=0)\n",
    "    knn.fit(X_train, y_train)\n",
    "    results[k] = knn.score(X_test, y_test)\n",
    "plt.plot(train_sizes,results)"
   ]
  }
 ],
 "metadata": {
  "kernelspec": {
   "display_name": "Python 3",
   "language": "python",
   "name": "python3"
  },
  "language_info": {
   "codemirror_mode": {
    "name": "ipython",
    "version": 3
   },
   "file_extension": ".py",
   "mimetype": "text/x-python",
   "name": "python",
   "nbconvert_exporter": "python",
   "pygments_lexer": "ipython3",
   "version": "3.8.5"
  }
 },
 "nbformat": 4,
 "nbformat_minor": 2
}
